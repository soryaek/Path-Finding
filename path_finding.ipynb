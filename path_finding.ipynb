{
 "cells": [
  {
   "cell_type": "code",
   "execution_count": null,
   "metadata": {},
   "outputs": [],
   "source": [
    "Author: Sorya Ek"
   ]
  },
  {
   "cell_type": "markdown",
   "metadata": {
    "colab_type": "text",
    "id": "MskXz_LnAph6"
   },
   "source": [
    "In this assignment, we will be doing pathfinding using Dijkstra's and A* to search through the topology.\n",
    "\n",
    "In this assignment we will:\n",
    "\n",
    "* Parse a data file to create a representation of a world-space\n",
    "* Implement functions that operate over this representation: telling the algorithms how to navigate this space, how to estimate costs over this space, and how to determine when a goal has been reached in this space\n",
    "* Implement Dijkstra's (an algorithm for finding the optimal path through a graph) search and A* search (a modification of Dijkstra's that utilizes heuristics to speed up the search, while still guaranteeing optimality)\n"
   ]
  },
  {
   "cell_type": "markdown",
   "metadata": {
    "colab_type": "text",
    "id": "UI-h9Kb0A2uz"
   },
   "source": [
    "First we will load the map into a grid called: terrain"
   ]
  },
  {
   "cell_type": "code",
   "execution_count": 23,
   "metadata": {
    "colab": {
     "base_uri": "https://localhost:8080/",
     "height": 87,
     "resources": {
      "http://localhost:8080/nbextensions/google.colab/files.js": {
       "data": "Ly8gQ29weXJpZ2h0IDIwMTcgR29vZ2xlIExMQwovLwovLyBMaWNlbnNlZCB1bmRlciB0aGUgQXBhY2hlIExpY2Vuc2UsIFZlcnNpb24gMi4wICh0aGUgIkxpY2Vuc2UiKTsKLy8geW91IG1heSBub3QgdXNlIHRoaXMgZmlsZSBleGNlcHQgaW4gY29tcGxpYW5jZSB3aXRoIHRoZSBMaWNlbnNlLgovLyBZb3UgbWF5IG9idGFpbiBhIGNvcHkgb2YgdGhlIExpY2Vuc2UgYXQKLy8KLy8gICAgICBodHRwOi8vd3d3LmFwYWNoZS5vcmcvbGljZW5zZXMvTElDRU5TRS0yLjAKLy8KLy8gVW5sZXNzIHJlcXVpcmVkIGJ5IGFwcGxpY2FibGUgbGF3IG9yIGFncmVlZCB0byBpbiB3cml0aW5nLCBzb2Z0d2FyZQovLyBkaXN0cmlidXRlZCB1bmRlciB0aGUgTGljZW5zZSBpcyBkaXN0cmlidXRlZCBvbiBhbiAiQVMgSVMiIEJBU0lTLAovLyBXSVRIT1VUIFdBUlJBTlRJRVMgT1IgQ09ORElUSU9OUyBPRiBBTlkgS0lORCwgZWl0aGVyIGV4cHJlc3Mgb3IgaW1wbGllZC4KLy8gU2VlIHRoZSBMaWNlbnNlIGZvciB0aGUgc3BlY2lmaWMgbGFuZ3VhZ2UgZ292ZXJuaW5nIHBlcm1pc3Npb25zIGFuZAovLyBsaW1pdGF0aW9ucyB1bmRlciB0aGUgTGljZW5zZS4KCi8qKgogKiBAZmlsZW92ZXJ2aWV3IEhlbHBlcnMgZm9yIGdvb2dsZS5jb2xhYiBQeXRob24gbW9kdWxlLgogKi8KKGZ1bmN0aW9uKHNjb3BlKSB7CmZ1bmN0aW9uIHNwYW4odGV4dCwgc3R5bGVBdHRyaWJ1dGVzID0ge30pIHsKICBjb25zdCBlbGVtZW50ID0gZG9jdW1lbnQuY3JlYXRlRWxlbWVudCgnc3BhbicpOwogIGVsZW1lbnQudGV4dENvbnRlbnQgPSB0ZXh0OwogIGZvciAoY29uc3Qga2V5IG9mIE9iamVjdC5rZXlzKHN0eWxlQXR0cmlidXRlcykpIHsKICAgIGVsZW1lbnQuc3R5bGVba2V5XSA9IHN0eWxlQXR0cmlidXRlc1trZXldOwogIH0KICByZXR1cm4gZWxlbWVudDsKfQoKLy8gTWF4IG51bWJlciBvZiBieXRlcyB3aGljaCB3aWxsIGJlIHVwbG9hZGVkIGF0IGEgdGltZS4KY29uc3QgTUFYX1BBWUxPQURfU0laRSA9IDEwMCAqIDEwMjQ7Ci8vIE1heCBhbW91bnQgb2YgdGltZSB0byBibG9jayB3YWl0aW5nIGZvciB0aGUgdXNlci4KY29uc3QgRklMRV9DSEFOR0VfVElNRU9VVF9NUyA9IDMwICogMTAwMDsKCmZ1bmN0aW9uIF91cGxvYWRGaWxlcyhpbnB1dElkLCBvdXRwdXRJZCkgewogIGNvbnN0IHN0ZXBzID0gdXBsb2FkRmlsZXNTdGVwKGlucHV0SWQsIG91dHB1dElkKTsKICBjb25zdCBvdXRwdXRFbGVtZW50ID0gZG9jdW1lbnQuZ2V0RWxlbWVudEJ5SWQob3V0cHV0SWQpOwogIC8vIENhY2hlIHN0ZXBzIG9uIHRoZSBvdXRwdXRFbGVtZW50IHRvIG1ha2UgaXQgYXZhaWxhYmxlIGZvciB0aGUgbmV4dCBjYWxsCiAgLy8gdG8gdXBsb2FkRmlsZXNDb250aW51ZSBmcm9tIFB5dGhvbi4KICBvdXRwdXRFbGVtZW50LnN0ZXBzID0gc3RlcHM7CgogIHJldHVybiBfdXBsb2FkRmlsZXNDb250aW51ZShvdXRwdXRJZCk7Cn0KCi8vIFRoaXMgaXMgcm91Z2hseSBhbiBhc3luYyBnZW5lcmF0b3IgKG5vdCBzdXBwb3J0ZWQgaW4gdGhlIGJyb3dzZXIgeWV0KSwKLy8gd2hlcmUgdGhlcmUgYXJlIG11bHRpcGxlIGFzeW5jaHJvbm91cyBzdGVwcyBhbmQgdGhlIFB5dGhvbiBzaWRlIGlzIGdvaW5nCi8vIHRvIHBvbGwgZm9yIGNvbXBsZXRpb24gb2YgZWFjaCBzdGVwLgovLyBUaGlzIHVzZXMgYSBQcm9taXNlIHRvIGJsb2NrIHRoZSBweXRob24gc2lkZSBvbiBjb21wbGV0aW9uIG9mIGVhY2ggc3RlcCwKLy8gdGhlbiBwYXNzZXMgdGhlIHJlc3VsdCBvZiB0aGUgcHJldmlvdXMgc3RlcCBhcyB0aGUgaW5wdXQgdG8gdGhlIG5leHQgc3RlcC4KZnVuY3Rpb24gX3VwbG9hZEZpbGVzQ29udGludWUob3V0cHV0SWQpIHsKICBjb25zdCBvdXRwdXRFbGVtZW50ID0gZG9jdW1lbnQuZ2V0RWxlbWVudEJ5SWQob3V0cHV0SWQpOwogIGNvbnN0IHN0ZXBzID0gb3V0cHV0RWxlbWVudC5zdGVwczsKCiAgY29uc3QgbmV4dCA9IHN0ZXBzLm5leHQob3V0cHV0RWxlbWVudC5sYXN0UHJvbWlzZVZhbHVlKTsKICByZXR1cm4gUHJvbWlzZS5yZXNvbHZlKG5leHQudmFsdWUucHJvbWlzZSkudGhlbigodmFsdWUpID0+IHsKICAgIC8vIENhY2hlIHRoZSBsYXN0IHByb21pc2UgdmFsdWUgdG8gbWFrZSBpdCBhdmFpbGFibGUgdG8gdGhlIG5leHQKICAgIC8vIHN0ZXAgb2YgdGhlIGdlbmVyYXRvci4KICAgIG91dHB1dEVsZW1lbnQubGFzdFByb21pc2VWYWx1ZSA9IHZhbHVlOwogICAgcmV0dXJuIG5leHQudmFsdWUucmVzcG9uc2U7CiAgfSk7Cn0KCi8qKgogKiBHZW5lcmF0b3IgZnVuY3Rpb24gd2hpY2ggaXMgY2FsbGVkIGJldHdlZW4gZWFjaCBhc3luYyBzdGVwIG9mIHRoZSB1cGxvYWQKICogcHJvY2Vzcy4KICogQHBhcmFtIHtzdHJpbmd9IGlucHV0SWQgRWxlbWVudCBJRCBvZiB0aGUgaW5wdXQgZmlsZSBwaWNrZXIgZWxlbWVudC4KICogQHBhcmFtIHtzdHJpbmd9IG91dHB1dElkIEVsZW1lbnQgSUQgb2YgdGhlIG91dHB1dCBkaXNwbGF5LgogKiBAcmV0dXJuIHshSXRlcmFibGU8IU9iamVjdD59IEl0ZXJhYmxlIG9mIG5leHQgc3RlcHMuCiAqLwpmdW5jdGlvbiogdXBsb2FkRmlsZXNTdGVwKGlucHV0SWQsIG91dHB1dElkKSB7CiAgY29uc3QgaW5wdXRFbGVtZW50ID0gZG9jdW1lbnQuZ2V0RWxlbWVudEJ5SWQoaW5wdXRJZCk7CiAgaW5wdXRFbGVtZW50LmRpc2FibGVkID0gZmFsc2U7CgogIGNvbnN0IG91dHB1dEVsZW1lbnQgPSBkb2N1bWVudC5nZXRFbGVtZW50QnlJZChvdXRwdXRJZCk7CiAgb3V0cHV0RWxlbWVudC5pbm5lckhUTUwgPSAnJzsKCiAgY29uc3QgcGlja2VkUHJvbWlzZSA9IG5ldyBQcm9taXNlKChyZXNvbHZlKSA9PiB7CiAgICBpbnB1dEVsZW1lbnQuYWRkRXZlbnRMaXN0ZW5lcignY2hhbmdlJywgKGUpID0+IHsKICAgICAgcmVzb2x2ZShlLnRhcmdldC5maWxlcyk7CiAgICB9KTsKICB9KTsKCiAgY29uc3QgY2FuY2VsID0gZG9jdW1lbnQuY3JlYXRlRWxlbWVudCgnYnV0dG9uJyk7CiAgaW5wdXRFbGVtZW50LnBhcmVudEVsZW1lbnQuYXBwZW5kQ2hpbGQoY2FuY2VsKTsKICBjYW5jZWwudGV4dENvbnRlbnQgPSAnQ2FuY2VsIHVwbG9hZCc7CiAgY29uc3QgY2FuY2VsUHJvbWlzZSA9IG5ldyBQcm9taXNlKChyZXNvbHZlKSA9PiB7CiAgICBjYW5jZWwub25jbGljayA9ICgpID0+IHsKICAgICAgcmVzb2x2ZShudWxsKTsKICAgIH07CiAgfSk7CgogIC8vIENhbmNlbCB1cGxvYWQgaWYgdXNlciBoYXNuJ3QgcGlja2VkIGFueXRoaW5nIGluIHRpbWVvdXQuCiAgY29uc3QgdGltZW91dFByb21pc2UgPSBuZXcgUHJvbWlzZSgocmVzb2x2ZSkgPT4gewogICAgc2V0VGltZW91dCgoKSA9PiB7CiAgICAgIHJlc29sdmUobnVsbCk7CiAgICB9LCBGSUxFX0NIQU5HRV9USU1FT1VUX01TKTsKICB9KTsKCiAgLy8gV2FpdCBmb3IgdGhlIHVzZXIgdG8gcGljayB0aGUgZmlsZXMuCiAgY29uc3QgZmlsZXMgPSB5aWVsZCB7CiAgICBwcm9taXNlOiBQcm9taXNlLnJhY2UoW3BpY2tlZFByb21pc2UsIHRpbWVvdXRQcm9taXNlLCBjYW5jZWxQcm9taXNlXSksCiAgICByZXNwb25zZTogewogICAgICBhY3Rpb246ICdzdGFydGluZycsCiAgICB9CiAgfTsKCiAgaWYgKCFmaWxlcykgewogICAgcmV0dXJuIHsKICAgICAgcmVzcG9uc2U6IHsKICAgICAgICBhY3Rpb246ICdjb21wbGV0ZScsCiAgICAgIH0KICAgIH07CiAgfQoKICBjYW5jZWwucmVtb3ZlKCk7CgogIC8vIERpc2FibGUgdGhlIGlucHV0IGVsZW1lbnQgc2luY2UgZnVydGhlciBwaWNrcyBhcmUgbm90IGFsbG93ZWQuCiAgaW5wdXRFbGVtZW50LmRpc2FibGVkID0gdHJ1ZTsKCiAgZm9yIChjb25zdCBmaWxlIG9mIGZpbGVzKSB7CiAgICBjb25zdCBsaSA9IGRvY3VtZW50LmNyZWF0ZUVsZW1lbnQoJ2xpJyk7CiAgICBsaS5hcHBlbmQoc3BhbihmaWxlLm5hbWUsIHtmb250V2VpZ2h0OiAnYm9sZCd9KSk7CiAgICBsaS5hcHBlbmQoc3BhbigKICAgICAgICBgKCR7ZmlsZS50eXBlIHx8ICduL2EnfSkgLSAke2ZpbGUuc2l6ZX0gYnl0ZXMsIGAgKwogICAgICAgIGBsYXN0IG1vZGlmaWVkOiAkewogICAgICAgICAgICBmaWxlLmxhc3RNb2RpZmllZERhdGUgPyBmaWxlLmxhc3RNb2RpZmllZERhdGUudG9Mb2NhbGVEYXRlU3RyaW5nKCkgOgogICAgICAgICAgICAgICAgICAgICAgICAgICAgICAgICAgICAnbi9hJ30gLSBgKSk7CiAgICBjb25zdCBwZXJjZW50ID0gc3BhbignMCUgZG9uZScpOwogICAgbGkuYXBwZW5kQ2hpbGQocGVyY2VudCk7CgogICAgb3V0cHV0RWxlbWVudC5hcHBlbmRDaGlsZChsaSk7CgogICAgY29uc3QgZmlsZURhdGFQcm9taXNlID0gbmV3IFByb21pc2UoKHJlc29sdmUpID0+IHsKICAgICAgY29uc3QgcmVhZGVyID0gbmV3IEZpbGVSZWFkZXIoKTsKICAgICAgcmVhZGVyLm9ubG9hZCA9IChlKSA9PiB7CiAgICAgICAgcmVzb2x2ZShlLnRhcmdldC5yZXN1bHQpOwogICAgICB9OwogICAgICByZWFkZXIucmVhZEFzQXJyYXlCdWZmZXIoZmlsZSk7CiAgICB9KTsKICAgIC8vIFdhaXQgZm9yIHRoZSBkYXRhIHRvIGJlIHJlYWR5LgogICAgbGV0IGZpbGVEYXRhID0geWllbGQgewogICAgICBwcm9taXNlOiBmaWxlRGF0YVByb21pc2UsCiAgICAgIHJlc3BvbnNlOiB7CiAgICAgICAgYWN0aW9uOiAnY29udGludWUnLAogICAgICB9CiAgICB9OwoKICAgIC8vIFVzZSBhIGNodW5rZWQgc2VuZGluZyB0byBhdm9pZCBtZXNzYWdlIHNpemUgbGltaXRzLiBTZWUgYi82MjExNTY2MC4KICAgIGxldCBwb3NpdGlvbiA9IDA7CiAgICB3aGlsZSAocG9zaXRpb24gPCBmaWxlRGF0YS5ieXRlTGVuZ3RoKSB7CiAgICAgIGNvbnN0IGxlbmd0aCA9IE1hdGgubWluKGZpbGVEYXRhLmJ5dGVMZW5ndGggLSBwb3NpdGlvbiwgTUFYX1BBWUxPQURfU0laRSk7CiAgICAgIGNvbnN0IGNodW5rID0gbmV3IFVpbnQ4QXJyYXkoZmlsZURhdGEsIHBvc2l0aW9uLCBsZW5ndGgpOwogICAgICBwb3NpdGlvbiArPSBsZW5ndGg7CgogICAgICBjb25zdCBiYXNlNjQgPSBidG9hKFN0cmluZy5mcm9tQ2hhckNvZGUuYXBwbHkobnVsbCwgY2h1bmspKTsKICAgICAgeWllbGQgewogICAgICAgIHJlc3BvbnNlOiB7CiAgICAgICAgICBhY3Rpb246ICdhcHBlbmQnLAogICAgICAgICAgZmlsZTogZmlsZS5uYW1lLAogICAgICAgICAgZGF0YTogYmFzZTY0LAogICAgICAgIH0sCiAgICAgIH07CiAgICAgIHBlcmNlbnQudGV4dENvbnRlbnQgPQogICAgICAgICAgYCR7TWF0aC5yb3VuZCgocG9zaXRpb24gLyBmaWxlRGF0YS5ieXRlTGVuZ3RoKSAqIDEwMCl9JSBkb25lYDsKICAgIH0KICB9CgogIC8vIEFsbCBkb25lLgogIHlpZWxkIHsKICAgIHJlc3BvbnNlOiB7CiAgICAgIGFjdGlvbjogJ2NvbXBsZXRlJywKICAgIH0KICB9Owp9CgpzY29wZS5nb29nbGUgPSBzY29wZS5nb29nbGUgfHwge307CnNjb3BlLmdvb2dsZS5jb2xhYiA9IHNjb3BlLmdvb2dsZS5jb2xhYiB8fCB7fTsKc2NvcGUuZ29vZ2xlLmNvbGFiLl9maWxlcyA9IHsKICBfdXBsb2FkRmlsZXMsCiAgX3VwbG9hZEZpbGVzQ29udGludWUsCn07Cn0pKHNlbGYpOwo=",
       "headers": [
        [
         "content-type",
         "application/javascript"
        ]
       ],
       "ok": true,
       "status": 200,
       "status_text": ""
      }
     }
    },
    "colab_type": "code",
    "id": "DDrS0Q-5l2vn",
    "outputId": "a714e401-3ef6-4a02-eabb-c09fd23057e0"
   },
   "outputs": [
    {
     "data": {
      "text/html": [
       "\n",
       "     <input type=\"file\" id=\"files-5dd53bca-7af6-42a0-82db-abc5edc5033d\" name=\"files[]\" multiple disabled />\n",
       "     <output id=\"result-5dd53bca-7af6-42a0-82db-abc5edc5033d\">\n",
       "      Upload widget is only available when the cell has been executed in the\n",
       "      current browser session. Please rerun this cell to enable.\n",
       "      </output>\n",
       "      <script src=\"/nbextensions/google.colab/files.js\"></script> "
      ],
      "text/plain": [
       "<IPython.core.display.HTML object>"
      ]
     },
     "metadata": {
      "tags": []
     },
     "output_type": "display_data"
    },
    {
     "name": "stdout",
     "output_type": "stream",
     "text": [
      "Saving terrain.txt to terrain (2).txt\n",
      "User uploaded file \"terrain.txt\" with length 489 bytes\n"
     ]
    }
   ],
   "source": [
    "from google.colab import files\n",
    "\n",
    "uploaded = files.upload()\n",
    "\n",
    "for fn in uploaded.keys():\n",
    "  print('User uploaded file \"{name}\" with length {length} bytes'.format(\n",
    "      name=fn, length=len(uploaded[fn])))\n",
    "\n",
    "import pandas as pd\n",
    "import io\n",
    "df = io.StringIO(uploaded['terrain.txt'].decode('utf-8'))\n",
    "terrain = [list(row.rstrip()) for row in df]"
   ]
  },
  {
   "cell_type": "code",
   "execution_count": 24,
   "metadata": {
    "colab": {
     "base_uri": "https://localhost:8080/",
     "height": 194
    },
    "colab_type": "code",
    "id": "M1DAhkPdmAwP",
    "outputId": "2d11abc3-29b0-4849-9f46-db3dce8d2ce3"
   },
   "outputs": [
    {
     "name": "stdout",
     "output_type": "stream",
     "text": [
      "['😀', '🌿', '🌿', '🌿', '🌿', '🌼', '🌿', '🌼', '🌼', '🌿', '🌿', '🌿']\n",
      "['🌿', '🌿', '🌿', '🌿', '🌿', '🌼', '🌿', '🌼', '🌼', '🌿', '🌿', '🌿']\n",
      "['🌿', '🌿', '🌿', '🌿', '🌿', '🌿', '🌼', '🌿', '🌿', '🌿', '🌿', '🌿']\n",
      "['🌿', '🌿', '🌿', '🌊', '🌊', '🌊', '🌊', '🌊', '🌉', '🌊', '🌊', '🌊']\n",
      "['🌊', '🌊', '🌊', '🌊', '🌊', '🌊', '🌊', '🌊', '🌉', '🌊', '🌊', '🌊']\n",
      "['🌊', '🌊', '🌊', '🌊', '🌊', '🌊', '🌊', '🌊', '🌉', '🌊', '🌊', '🌊']\n",
      "['🌊', '🌊', '🌊', '🌊', '🌊', '🌊', '🌊', '🌊', '🌉', '🌊', '🌊', '🌊']\n",
      "['🌊', '🌊', '🌊', '🌊', '🌊', '🌊', '🌊', '🌊', '🌉', '🌊', '🌊', '🌊']\n",
      "['🌊', '🌊', '🌊', '🌊', '🌊', '🌊', '🌊', '🌊', '🌉', '🌊', '🌊', '🌊']\n",
      "['🌿', '🌿', '🌿', '🌲', '🌿', '🌿', '🌿', '🌿', '🌿', '🌼', '🌲', '🌲']\n"
     ]
    }
   ],
   "source": [
    "for row in terrain:\n",
    "    print(row)"
   ]
  },
  {
   "cell_type": "markdown",
   "metadata": {
    "colab_type": "text",
    "id": "1oNRShb0A_fW"
   },
   "source": [
    "The indexing on terrain is terrain[y][x].\n",
    "\n",
    "Now we will implement a find_neighbors function. find_neighbors should take in the curent position (a tuple of (x,y)) and the terrain. It will output a list [] of all of the neighbors (tuples of ( (x,y), cost)) the costs are as follows: 🌿 = 1 🌼 = 2 🌉 = 1 🌊 = 5 🌲 = 1\n",
    "\n",
    "i.e., we are fine walking on grass, bridges, and trees, but would prefer to avoid flowers, and really don't want to swim.\n",
    "\n",
    "Note: this is assuming a neighborhood of:\n",
    "\n",
    "🌿🌿🌿\n",
    "\n",
    "🌿🌿🌿\n",
    "\n",
    "🌿🌿🌿\n",
    "\n",
    "not\n",
    "\n",
    "  🌿 \n",
    "\n",
    "🌿🌿🌿\n",
    "\n",
    "  🌿 \n",
    "\n",
    "i.e. We are allowed to move on diagonals, not just in the cardinal directions"
   ]
  },
  {
   "cell_type": "code",
   "execution_count": 0,
   "metadata": {
    "colab": {},
    "colab_type": "code",
    "id": "2CqIVVyK3PtM"
   },
   "outputs": [],
   "source": [
    "def find_neighbors(current_position, terrain):\n",
    "    \n",
    "    num_cols = len(terrain[0])\n",
    "    num_rows = len(terrain)\n",
    "    \n",
    "    x = current_position[0]\n",
    "    y = current_position[1]\n",
    "    \n",
    "    neighbors = []\n",
    "    \n",
    "    if x==0:\n",
    "      if y==0:\n",
    "        neighbors.append(((x+1, y+1), get_cost((x+1, y+1), terrain)))\n",
    "        neighbors.append(((x+1, y), get_cost((x+1,y), terrain)))\n",
    "        neighbors.append(((x, y+1), get_cost((x, y+1), terrain)))\n",
    "      elif y == num_cols-1:\n",
    "        neighbors.append(((x, y-1), get_cost((x, y-1), terrain))) \n",
    "        neighbors.append(((x+1, y), get_cost((x+1, y), terrain)))\n",
    "        neighbors.append(((x+1, y-1), get_cost((x+1, y-1), terrain))) \n",
    "      else:\n",
    "        neighbors.append(((x+1, y+1), get_cost((x+1, y+1), terrain)))\n",
    "        neighbors.append(((x, y+1), get_cost((x, y+1), terrain))) \n",
    "        neighbors.append(((x+1, y), get_cost((x+1, y), terrain)))        \n",
    "        neighbors.append(((x, y-1), get_cost((x, y-1), terrain))) \n",
    "        neighbors.append(((x+1, y-1), get_cost((x+1, y-1), terrain)))\n",
    "    \n",
    "    elif x==num_rows-1:\n",
    "      if y==0:\n",
    "        neighbors.append(((x, y+1), get_cost((x, y+1), terrain))) \n",
    "        neighbors.append(((x-1, y), get_cost((x-1, y), terrain)))\n",
    "        neighbors.append(((x-1, y+1), get_cost((x-1, y+1), terrain)))\n",
    "      elif y == num_cols-1:\n",
    "        neighbors.append(((x, y-1), get_cost((x, y-1), terrain))) \n",
    "        neighbors.append(((x-1, y), get_cost((x-1, y), terrain)))\n",
    "        neighbors.append(((x-1, y-1), get_cost((x-1, y-1), terrain))) \n",
    "      else:\n",
    "        neighbors.append(((x, y+1), get_cost((x, y+1), terrain))) \n",
    "        neighbors.append(((x-1, y), get_cost((x-1, y), terrain)))\n",
    "        neighbors.append(((x-1, y+1), get_cost((x-1, y+1), terrain)))\n",
    "        neighbors.append(((x, y-1), get_cost((x, y-1), terrain))) \n",
    "        neighbors.append(((x-1, y-1), get_cost((x-1, y-1), terrain)))\n",
    "    else:\n",
    "      if y==0:\n",
    "        neighbors.append(((x, y+1), get_cost((x, y+1), terrain))) \n",
    "        neighbors.append(((x+1, y), get_cost((x+1, y), terrain)))\n",
    "        neighbors.append(((x+1, y+1), get_cost((x+1, y+1), terrain)))        \n",
    "        neighbors.append(((x-1, y), get_cost((x-1, y), terrain)))\n",
    "        neighbors.append(((x-1, y+1), get_cost((x-1, y+1), terrain)))\n",
    "      elif y == num_cols-1:\n",
    "        neighbors.append(((x, y-1), get_cost((x, y-1), terrain))) \n",
    "        neighbors.append(((x+1, y), get_cost((x+1, y), terrain)))\n",
    "        neighbors.append(((x+1, y-1), get_cost((x+1, y-1), terrain)))\n",
    "        neighbors.append(((x-1, y), get_cost((x-1, y), terrain)))\n",
    "        neighbors.append(((x-1, y-1), get_cost((x-1, y-1), terrain))) \n",
    "      else:\n",
    "        neighbors.append(((x+1, y+1), get_cost((x+1, y+1), terrain)))\n",
    "        neighbors.append(((x, y+1), get_cost((x, y+1), terrain))) \n",
    "        neighbors.append(((x-1, y), get_cost((x-1, y), terrain)))\n",
    "        neighbors.append(((x-1, y+1), get_cost((x-1, y+1), terrain)))\n",
    "        neighbors.append(((x, y-1), get_cost((x, y-1), terrain))) \n",
    "        neighbors.append(((x-1, y-1), get_cost((x-1, y-1), terrain)))\n",
    "        neighbors.append(((x+1, y), get_cost((x+1, y), terrain)))      \n",
    "        neighbors.append(((x+1, y-1), get_cost((x+1, y-1), terrain)))\n",
    "    \n",
    "    return neighbors"
   ]
  },
  {
   "cell_type": "code",
   "execution_count": 0,
   "metadata": {
    "colab": {},
    "colab_type": "code",
    "id": "B2jTyqaj3yRp"
   },
   "outputs": [],
   "source": [
    "def get_cost(position, terrain):\n",
    "    x = position[0]\n",
    "    y = position[1]\n",
    "    if terrain[x][y] == '🌿':\n",
    "        return 1\n",
    "    elif terrain[x][y] == '🌼':\n",
    "        return 2\n",
    "    elif terrain[x][y] == '🌉':\n",
    "        return 1\n",
    "    elif terrain[x][y] == '🌊':\n",
    "        return 5\n",
    "    elif terrain[x][y] == '🌲':\n",
    "        return 1\n",
    "    elif terrain[x][y] == '😀':\n",
    "        return 0\n",
    "    else:\n",
    "        return np.Inf\n",
    "        "
   ]
  },
  {
   "cell_type": "markdown",
   "metadata": {
    "colab_type": "text",
    "id": "PcSSPPBTBEYj"
   },
   "source": [
    "Now, we want to find the heuristic cost for a given location on the terrain.\n",
    "\n",
    "Find the Manhattan distance to the nearest 🌲 -- e.g. if the tree is at (x',y') and the given location is (x,y) the heuristic distance is abs(y-y') + abs(x-x')"
   ]
  },
  {
   "cell_type": "code",
   "execution_count": 0,
   "metadata": {
    "colab": {},
    "colab_type": "code",
    "id": "9VBPWHy00SSr"
   },
   "outputs": [],
   "source": [
    "def get_heuristic(position,terrain):\n",
    "    min_distance = 0\n",
    "    num_r = len(terrain)\n",
    "    num_c = len(terrain[0])\n",
    "    for i in range(num_r):\n",
    "      for j in range(num_c):\n",
    "        if i != position[0] and j != position[1]:\n",
    "          if is_goal((i,j), terrain):\n",
    "            dist = abs(position[1]-j) + abs(position[0]-i)\n",
    "            if dist < min_distance:\n",
    "              min_distance = dist\n",
    "    return min_distance"
   ]
  },
  {
   "cell_type": "markdown",
   "metadata": {
    "colab_type": "text",
    "id": "lt-eAbyPBIVG"
   },
   "source": [
    "We also need to implement a function that recognizes whether the goal state has been achieved, i.e. is there a 🌲 found at the current position."
   ]
  },
  {
   "cell_type": "code",
   "execution_count": 0,
   "metadata": {
    "colab": {},
    "colab_type": "code",
    "id": "LOO94tqooN8Z"
   },
   "outputs": [],
   "source": [
    "def is_goal(position, terrain):\n",
    "    #fill this in\n",
    "    return terrain[position[0]][position[1]] == '🌲'"
   ]
  },
  {
   "cell_type": "markdown",
   "metadata": {
    "colab_type": "text",
    "id": "7K6Bnn1ZBLQO"
   },
   "source": [
    "Finally, here is a helper class -- PriorityQueue -- and a helper function pretty_print_path that takes in the path (a list of position (x,y) tuples) and outputs a pretty string with emoji showing the path through the terrain"
   ]
  },
  {
   "cell_type": "code",
   "execution_count": 0,
   "metadata": {
    "colab": {},
    "colab_type": "code",
    "id": "f1xonRmSR51z"
   },
   "outputs": [],
   "source": [
    "import heapq\n",
    "\n",
    "class PriorityQueue:\n",
    "    def __init__(self):\n",
    "        self.elements = []\n",
    "        self.visited = 0\n",
    "    \n",
    "    def empty(self):\n",
    "        return len(self.elements) == 0\n",
    "    \n",
    "    def put(self, item, priority):\n",
    "        heapq.heappush(self.elements, (priority, self.visited, item))\n",
    "        self.visited += 1\n",
    "    def get(self):\n",
    "        return heapq.heappop(self.elements)[2]\n",
    "    \n",
    "def pretty_print_path(path,terrain):\n",
    "        \n",
    "    emojis = ['😀','😁','😂','🤣','😃','😄','😅','😆','😉','😊','😋']\n",
    "    \n",
    "    path2len = {location:distance for distance,location in enumerate(path)}\n",
    "    output = []\n",
    "    for yy,row in enumerate(terrain):\n",
    "        row_str = ''\n",
    "        for xx, cur in enumerate(row):\n",
    "            if (yy, xx) in path2len:\n",
    "                row_str += emojis[path2len[(yy,xx)] % len(emojis)]\n",
    "            else:\n",
    "                row_str += cur\n",
    "        output.append(row_str)\n",
    "    return '\\n'.join(output)"
   ]
  },
  {
   "cell_type": "markdown",
   "metadata": {
    "colab_type": "text",
    "id": "LMGDqkwtBN6_"
   },
   "source": [
    "Now implement Dijkstra's and A*. Each function should return a path (list of tuples (x,y) pairs going from start to end) for the path.\n"
   ]
  },
  {
   "cell_type": "code",
   "execution_count": 0,
   "metadata": {
    "colab": {},
    "colab_type": "code",
    "id": "WbM7hQ9nR9ow"
   },
   "outputs": [],
   "source": [
    "import numpy as np\n",
    "def dijkstras(initial_position,world,get_neighbors,is_goal): \n",
    "    Q = PriorityQueue()\n",
    "    dist = {}\n",
    "    visited = {}\n",
    "    visited_set = set([initial_position])\n",
    "    p = {}\n",
    "    Qd = {}    \n",
    "    dist[initial_position] = 0\n",
    "    \n",
    "    for v in get_neighbors(initial_position, world):\n",
    "      dist[v[0]] = get_cost(v[0], world)\n",
    "      item = [dist[v[0]], initial_position, v[0]]\n",
    "      num_items = Q.visited\n",
    "      Q.put(item, dist[v[0]])\n",
    "      Qd[v[0]] = (dist[v[0]], num_items, item)    \n",
    "    \n",
    "    count = 0\n",
    "    while not Q.empty():\n",
    "      q = Q.get()\n",
    "      u = q[2]\n",
    "      if u not in visited_set:\n",
    "        p[u] = q[1]\n",
    "        visited_set.add(u)\n",
    "        #visited[i[0]] = True\n",
    "        if is_goal(u, world):\n",
    "           a = u\n",
    "           path_to_goal = [] \n",
    "           while a != initial_position:\n",
    "               path_to_goal.append(a)\n",
    "               a = p[a]\n",
    "           print(\"Number of visited nodes: \", Q.visited)   \n",
    "           return path_to_goal\n",
    "\n",
    "        for v in get_neighbors(u, world):\n",
    "          if dist.get(v[0]):\n",
    "            if dist[v[0]] > (v[1] + dist[u]):\n",
    "              dist[v[0]] = v[1] + dist[u]\n",
    "              t = Qd[v[0]]\n",
    "              lst = list(t)\n",
    "              lst[2][0] = dist[v[0]]\n",
    "              lst[2][1] = u\n",
    "              t = tuple(lst)\n",
    "              Qd[v[0]] = t\n",
    "              heapq._siftdown(Q.elements, 0, Q.elements.index(Qd[v[0]]))\n",
    "          else:\n",
    "            dist[v[0]] = v[1] + dist[u]\n",
    "            item = [dist[v[0]], u, v[0]]\n",
    "            num_items = Q.visited\n",
    "            Q.put(item, dist[v[0]])\n",
    "            Qd[v[0]] = (dist[v[0]], num_items, item) \n",
    "   \n",
    "  \n",
    "    return []\n",
    "\n",
    "def a_star(initial_position,world,get_neighbors,is_goal,heuristic):\n",
    "    Q = PriorityQueue()\n",
    "    came_from = {}\n",
    "    cost_so_far = {}\n",
    "    came_from[initial_position] = None\n",
    "    cost_so_far[initial_position] = 0\n",
    "    Q.put(initial_position, 0)\n",
    "    while not Q.empty():\n",
    "      u = Q.get()\n",
    "      if is_goal(u, world):\n",
    "        a = u\n",
    "        path_to_goal = [] \n",
    "        while a != initial_position:\n",
    "          path_to_goal.append(a)\n",
    "          a = came_from[a] \n",
    "        print(\"Number of visited nodes: \", Q.visited)\n",
    "        return path_to_goal\n",
    "      for v in get_neighbors(u, world):\n",
    "        new_cost = cost_so_far[u] + get_cost(v[0], world)\n",
    "        if v[0] not in cost_so_far or new_cost < cost_so_far[v[0]]:\n",
    "          cost_so_far[v[0]] = new_cost\n",
    "          priority = new_cost + heuristic(v[0], world)\n",
    "          Q.put(v[0], priority)\n",
    "          came_from[v[0]] = u\n",
    "    \n",
    "    return []"
   ]
  },
  {
   "cell_type": "code",
   "execution_count": 31,
   "metadata": {
    "colab": {
     "base_uri": "https://localhost:8080/",
     "height": 212
    },
    "colab_type": "code",
    "id": "fp3Wlmb9AMZW",
    "outputId": "b903f1be-272c-43be-d20c-cdfe262c05de"
   },
   "outputs": [
    {
     "name": "stdout",
     "output_type": "stream",
     "text": [
      "Number of visited nodes:  99\n",
      "😀🌿🌿🌿🌿🌼🌿🌼🌼🌿🌿🌿\n",
      "🌿🤣🌿🌿🌿🌼😊🌼🌼🌿🌿🌿\n",
      "🌿🌿😂😁😀😋🌼😉🌿🌿🌿🌿\n",
      "🌿🌿🌿🌊🌊🌊🌊🌊😆🌊🌊🌊\n",
      "🌊🌊🌊🌊🌊🌊🌊🌊😅🌊🌊🌊\n",
      "🌊🌊🌊🌊🌊🌊🌊🌊😄🌊🌊🌊\n",
      "🌊🌊🌊🌊🌊🌊🌊🌊😃🌊🌊🌊\n",
      "🌊🌊🌊🌊🌊🌊🌊🌊🤣🌊🌊🌊\n",
      "🌊🌊🌊🌊🌊🌊🌊🌊😂🌊🌊🌊\n",
      "🌿🌿🌿🌲🌿🌿🌿🌿🌿😁😀🌲\n"
     ]
    }
   ],
   "source": [
    "print(pretty_print_path(dijkstras((0,0), terrain, find_neighbors, is_goal), terrain))"
   ]
  },
  {
   "cell_type": "code",
   "execution_count": 32,
   "metadata": {
    "colab": {
     "base_uri": "https://localhost:8080/",
     "height": 212
    },
    "colab_type": "code",
    "id": "lCf-1wPzSCEh",
    "outputId": "12e09ac9-1042-432a-ef4c-88c13a4bb222"
   },
   "outputs": [
    {
     "name": "stdout",
     "output_type": "stream",
     "text": [
      "Number of visited nodes:  99\n",
      "😀🌿🌿🌿🌿🌼🌿🌼🌼🌿🌿🌿\n",
      "🌿🤣🌿🌿🌿🌼😊🌼🌼🌿🌿🌿\n",
      "🌿🌿😂😁😀😋🌼😉🌿🌿🌿🌿\n",
      "🌿🌿🌿🌊🌊🌊🌊🌊😆🌊🌊🌊\n",
      "🌊🌊🌊🌊🌊🌊🌊🌊😅🌊🌊🌊\n",
      "🌊🌊🌊🌊🌊🌊🌊🌊😄🌊🌊🌊\n",
      "🌊🌊🌊🌊🌊🌊🌊🌊😃🌊🌊🌊\n",
      "🌊🌊🌊🌊🌊🌊🌊🌊🤣🌊🌊🌊\n",
      "🌊🌊🌊🌊🌊🌊🌊🌊😂🌊🌊🌊\n",
      "🌿🌿🌿🌲🌿🌿🌿🌿🌿😁😀🌲\n"
     ]
    }
   ],
   "source": [
    "print(pretty_print_path(a_star((0,0), terrain, find_neighbors, is_goal, get_heuristic), terrain))"
   ]
  }
 ],
 "metadata": {
  "colab": {
   "collapsed_sections": [],
   "name": "AstarAndDijkstra.ipynb",
   "provenance": [],
   "version": "0.3.2"
  },
  "kernelspec": {
   "display_name": "Python 3",
   "language": "python",
   "name": "python3"
  },
  "language_info": {
   "codemirror_mode": {
    "name": "ipython",
    "version": 3
   },
   "file_extension": ".py",
   "mimetype": "text/x-python",
   "name": "python",
   "nbconvert_exporter": "python",
   "pygments_lexer": "ipython3",
   "version": "3.7.0"
  }
 },
 "nbformat": 4,
 "nbformat_minor": 1
}
